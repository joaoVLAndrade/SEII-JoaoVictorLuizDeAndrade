import time

start = time.perf_counter()

def sleep(secs):
    print(f'Sleeping {secs} second(s)...')
    time.sleep(secs)
    print('Done Sleeping...')

sleep(1)
sleep(2)

finish = time.perf_counter()

print(f'Finished in {round(finish-start,2)} second(s)')
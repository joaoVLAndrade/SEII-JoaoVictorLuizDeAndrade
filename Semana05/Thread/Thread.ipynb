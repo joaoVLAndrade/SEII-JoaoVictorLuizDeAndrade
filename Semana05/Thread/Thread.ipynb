{
 "cells": [
  {
   "cell_type": "markdown",
   "metadata": {},
   "source": [
    "## _Threads_\n",
    "\n",
    "Essa atividade foi desenvolvida para compreender e exercitar os conceitos de Thread no python.\n",
    "\n",
    "Todos os códigos utilizados nesta atividade são de autoria do programador Corey Schafer."
   ]
  },
  {
   "cell_type": "markdown",
   "metadata": {},
   "source": [
    "### 1) Execução em série\n",
    "\n",
    "O programa abaixo executa a função sleep() durante um intervalo indicado pelo usuário. Após a execução de duas funções, o tempo total gasto é indicado. Nota-se que o tempo final de execução será a soma dos tempos indicados pelo usuário pois apenas uma função será processada por vez"
   ]
  },
  {
   "cell_type": "code",
   "execution_count": 4,
   "metadata": {},
   "outputs": [
    {
     "name": "stdout",
     "output_type": "stream",
     "text": [
      "Sleeping 1 second(s)...\n",
      "Done Sleeping...\n",
      "Sleeping 2 second(s)...\n",
      "Done Sleeping...\n",
      "Finished in 3.02 second(s)\n"
     ]
    }
   ],
   "source": [
    "import time\n",
    "\n",
    "start = time.perf_counter()\n",
    "\n",
    "def sleep(secs):\n",
    "    print(f'Sleeping {secs} second(s)...')\n",
    "    time.sleep(secs)\n",
    "    print('Done Sleeping...')\n",
    "\n",
    "sleep(1)\n",
    "sleep(2)\n",
    "\n",
    "finish = time.perf_counter()\n",
    "\n",
    "print(f'Finished in {round(finish-start,2)} second(s)')"
   ]
  },
  {
   "cell_type": "markdown",
   "metadata": {},
   "source": [
    "### 2) Execução multithread simples - Threading\n",
    "\n",
    "O programa abaixo utiliza o módulo threading para criar duas threads que executam a função sleep. Com auxílio dessa biblioteca, é possível executar as duas de forma quase simultânea. Quando a primeira thread iniciada entra em modo de espera, a segunda é inciada."
   ]
  },
  {
   "cell_type": "code",
   "execution_count": 3,
   "metadata": {},
   "outputs": [
    {
     "name": "stdout",
     "output_type": "stream",
     "text": [
      "Sleeping 1 second(s)...\n",
      "Sleeping 1 second(s)...\n",
      "Done Sleeping...Done Sleeping...\n",
      "\n",
      "Finished in 1.02 second(s)\n"
     ]
    }
   ],
   "source": [
    "import time\n",
    "import threading\n",
    "\n",
    "start = time.perf_counter()\n",
    "\n",
    "def sleep(secs):\n",
    "    print(f'Sleeping {secs} second(s)...')\n",
    "    time.sleep(secs)\n",
    "    print('Done Sleeping...')\n",
    "\n",
    "t1 = threading.Thread(target=sleep,args=[1])\n",
    "t2 = threading.Thread(target=sleep,args=[1])\n",
    "\n",
    "t1.start()\n",
    "t2.start()\n",
    "\n",
    "t1.join()\n",
    "t2.join()\n",
    "\n",
    "finish = time.perf_counter()\n",
    "\n",
    "print(f'Finished in {round(finish-start,2)} second(s)')"
   ]
  },
  {
   "cell_type": "markdown",
   "metadata": {},
   "source": [
    "### 2.1) Execução multithread simples - Threading\n",
    "\n",
    "O programa abaixo é semelhante ao do item 2.1, porém conta com ainda mais threads. Para isso, utilizou-se um laço para criar multiplas threads e estas foram adicionadas à uma lista de threads. Nota-se que quanto mais threads forem adicionadas, maior será o tempo de execução do programa mesmo que o tempo de espera seja mantido o mesmo. Isso se dá em razão do CPU Bound, ou seja, o tempo de execução agora não esta só limitado ao tempo de espera de entradas e saídas."
   ]
  },
  {
   "cell_type": "code",
   "execution_count": 2,
   "metadata": {},
   "outputs": [
    {
     "name": "stdout",
     "output_type": "stream",
     "text": [
      "Sleeping 1.5 second(s)...\n",
      "Sleeping 1.5 second(s)...\n",
      "Sleeping 1.5 second(s)...\n",
      "Sleeping 1.5 second(s)...\n",
      "Sleeping 1.5 second(s)...\n",
      "Sleeping 1.5 second(s)...\n",
      "Sleeping 1.5 second(s)...\n",
      "Sleeping 1.5 second(s)...Sleeping 1.5 second(s)...\n",
      "\n",
      "Sleeping 1.5 second(s)...\n",
      "Done Sleeping...Done Sleeping...Done Sleeping...Done Sleeping...Done Sleeping...Done Sleeping...\n",
      "\n",
      "\n",
      "\n",
      "\n",
      "\n",
      "Done Sleeping...Done Sleeping...Done Sleeping...Done Sleeping...\n",
      "\n",
      "\n",
      "\n",
      "Finished in 1.53 second(s)\n"
     ]
    }
   ],
   "source": [
    "import time\n",
    "import threading\n",
    "\n",
    "start = time.perf_counter()\n",
    "\n",
    "def sleep(secs):\n",
    "    print(f'Sleeping {secs} second(s)...')\n",
    "    time.sleep(secs)\n",
    "    print('Done Sleeping...')\n",
    "\n",
    "threads = []\n",
    "\n",
    "for _ in range(10):\n",
    "    t = threading.Thread(target=sleep, args=[1.5])\n",
    "    t.start()\n",
    "    threads.append(t)\n",
    "    \n",
    "for thread in threads:\n",
    "    thread.join()\n",
    "\n",
    "\n",
    "finish = time.perf_counter()\n",
    "\n",
    "\n",
    "print(f'Finished in {round(finish-start,2)} second(s)')"
   ]
  },
  {
   "cell_type": "markdown",
   "metadata": {},
   "source": [
    "### 3.1) Execução multithread - Concurrent Futures\n",
    "\n",
    "O programa abaixo também utiliza o princípio de processamento multithread, porém o módulo concurrent.futures é utilizado. Ele permite a criação de uma interface para execução de processos assíncronos. Nota-se que o uso de gerenciamento de contexto, permite a utilização do método sem a necessidade de parar o executor no fim do processo."
   ]
  },
  {
   "cell_type": "code",
   "execution_count": 41,
   "metadata": {},
   "outputs": [
    {
     "name": "stdout",
     "output_type": "stream",
     "text": [
      "Sleeping 1 second(s)...\n",
      "Sleeping 1 second(s)...\n",
      "Done Sleeping...\n",
      "Done Sleeping...\n",
      "Finished in 1.028 second(s)\n"
     ]
    }
   ],
   "source": [
    "import time\n",
    "import concurrent.futures\n",
    "\n",
    "start = time.perf_counter()\n",
    "\n",
    "def sleep(secs):\n",
    "    print(f'Sleeping {secs} second(s)...')\n",
    "    time.sleep(secs)\n",
    "    return 'Done Sleeping...'\n",
    "\n",
    "threads = []\n",
    "\n",
    "# with concurrent.futures.ThreadPoolExecutor() as executor:\n",
    "#     f1 = executor.submit(sleep, 1)\n",
    "#     f2 = executor.submit(sleep, 1)\n",
    "#     print(f1.result())\n",
    "#     print(f2.result())\n",
    "\n",
    "with concurrent.futures.ThreadPoolExecutor() as executor:\n",
    "    results = [executor.submit(sleep, 1) for _ in range(5)]\n",
    "    \n",
    "    for f in concurrent.futures.as_completed(results):\n",
    "        print(f.result())\n",
    "\n",
    "\n",
    "\n",
    "finish = time.perf_counter()\n",
    "\n",
    "\n",
    "print(f'Finished in {round(finish-start,2)} second(s)')"
   ]
  },
  {
   "cell_type": "markdown",
   "metadata": {},
   "source": [
    "### 3.2) Execução multithread - Concurrent Futures\n",
    "\n",
    "Análogo ao item 3.1, porém utiliza o método as_completed para retornar as threads apenas quando concluidas. Caso tentassemos printar diretamente os resultados, seria mostrado o endereço de memória do objeto future referente àquela thread. Isso também garante que os resultados sejam retornados na ordem em que forem concluídos."
   ]
  },
  {
   "cell_type": "code",
   "execution_count": 7,
   "metadata": {},
   "outputs": [
    {
     "name": "stdout",
     "output_type": "stream",
     "text": [
      "Sleeping 5 second(s)...\n",
      "Sleeping 3 second(s)...\n",
      "Sleeping 4 second(s)...\n",
      "Sleeping 2 second(s)...\n",
      "Sleeping 3 second(s)...\n",
      "Sleeping 1 second(s)...<Future at 0x2c368bad330 state=running>\n",
      "\n",
      "Done Sleeping...1\n",
      "Done Sleeping...2\n",
      "Done Sleeping...3\n",
      "Done Sleeping...3\n",
      "Done Sleeping...4\n",
      "Done Sleeping...5\n",
      "Finished in 5.01 second(s)\n"
     ]
    }
   ],
   "source": [
    "import time\n",
    "import concurrent.futures\n",
    "\n",
    "start = time.perf_counter()\n",
    "\n",
    "def sleep(secs):\n",
    "    print(f'Sleeping {secs} second(s)...')\n",
    "    time.sleep(secs)\n",
    "    return f'Done Sleeping...{secs}'\n",
    "\n",
    "threads = []\n",
    "\n",
    "with concurrent.futures.ThreadPoolExecutor() as executor:\n",
    "    secs = [5, 3, 4, 2, 3, 1]\n",
    "    results = [executor.submit(sleep, sec) for sec in secs]\n",
    "    print(results[1])\n",
    "    \n",
    "    for f in concurrent.futures.as_completed(results):\n",
    "        print(f.result())\n",
    "\n",
    "finish = time.perf_counter()\n",
    "\n",
    "\n",
    "print(f'Finished in {round(finish-start,2)} second(s)')"
   ]
  },
  {
   "cell_type": "markdown",
   "metadata": {},
   "source": [
    "### 3.3) Execução multithread - Concurrent Futures\n",
    "\n",
    "Análogo ao item 3.2, porém utiliza o método map para gerenciar o processo de criação de Threads. Esse método relaciona um conjunto de threads a uma lista de parâmetros. Vale ressaltar que esse método retorna apenas os resultados das threads, de modo que, não é levado em conta o tempo de execução das mesmas. Ou seja, a lista gerada recebe o resultado das threads respeitando a sequência em que foram criadas."
   ]
  },
  {
   "cell_type": "code",
   "execution_count": 9,
   "metadata": {},
   "outputs": [
    {
     "name": "stdout",
     "output_type": "stream",
     "text": [
      "Sleeping 5 second(s)...\n",
      "Sleeping 4 second(s)...\n",
      "Sleeping 3 second(s)...\n",
      "Sleeping 2 second(s)...\n",
      "Sleeping 3 second(s)...\n",
      "Sleeping 1 second(s)...\n",
      "Done Sleeping...5\n",
      "Done Sleeping...4\n",
      "Done Sleeping...3\n",
      "Done Sleeping...2\n",
      "Done Sleeping...3\n",
      "Done Sleeping...1\n",
      "Finished in 5.02 second(s)\n"
     ]
    }
   ],
   "source": [
    "import time\n",
    "import concurrent.futures\n",
    "\n",
    "start = time.perf_counter()\n",
    "\n",
    "def sleep(secs):\n",
    "    print(f'Sleeping {secs} second(s)...')\n",
    "    time.sleep(secs)\n",
    "    return f'Done Sleeping...{secs}'\n",
    "\n",
    "threads = []\n",
    "\n",
    "with concurrent.futures.ThreadPoolExecutor() as executor:\n",
    "    secs = [5, 4, 3, 2, 3, 1]\n",
    "    results = executor.map(sleep, secs)\n",
    "    \n",
    "    for result in results:\n",
    "        print(result)\n",
    "\n",
    "finish = time.perf_counter()\n",
    "\n",
    "\n",
    "print(f'Finished in {round(finish-start,2)} second(s)')"
   ]
  }
 ],
 "metadata": {
  "interpreter": {
   "hash": "02e17b89f339ee76ff190cc42d9a5ce09190089d8d70b6d045aaf81c6763147f"
  },
  "kernelspec": {
   "display_name": "Python 3.10.0 64-bit (system)",
   "language": "python",
   "name": "python3"
  },
  "language_info": {
   "codemirror_mode": {
    "name": "ipython",
    "version": 3
   },
   "file_extension": ".py",
   "mimetype": "text/x-python",
   "name": "python",
   "nbconvert_exporter": "python",
   "pygments_lexer": "ipython3",
   "version": "3.10.0"
  },
  "orig_nbformat": 4
 },
 "nbformat": 4,
 "nbformat_minor": 2
}

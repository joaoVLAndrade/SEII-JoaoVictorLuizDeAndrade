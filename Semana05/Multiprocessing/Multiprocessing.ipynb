{
 "cells": [
  {
   "cell_type": "markdown",
   "metadata": {},
   "source": [
    "## _Multiprocessing_\n",
    "\n",
    "Essa atividade foi desenvolvida para compreender e exercitar os conceitos de Multiprocessing no python.\n",
    "\n",
    "Todos os códigos utilizados nesta atividade são de autoria do programador Corey Schafer.\n",
    "\n",
    "*Executar os códigos em um arquivo .py dedicado"
   ]
  },
  {
   "cell_type": "markdown",
   "metadata": {},
   "source": [
    "### 1) Execução em série\n",
    "\n",
    "O programa abaixo executa a função sleep() durante um intervalo indicado pelo usuário. Após a execução de duas funções, o tempo total gasto é indicado. Nota-se que o tempo final de execução será a soma dos tempos indicados pelo usuário pois apenas uma função será processada por vez"
   ]
  },
  {
   "cell_type": "code",
   "execution_count": null,
   "metadata": {},
   "outputs": [],
   "source": [
    "import time\n",
    "\n",
    "start = time.perf_counter()\n",
    "\n",
    "def sleep(secs):\n",
    "    print(f'Sleeping {secs} second(s)...')\n",
    "    time.sleep(secs)\n",
    "    print('Done Sleeping...')\n",
    "\n",
    "sleep(1)\n",
    "sleep(2)\n",
    "\n",
    "finish = time.perf_counter()\n",
    "\n",
    "print(f'Finished in {round(finish-start,2)} second(s)')"
   ]
  },
  {
   "cell_type": "markdown",
   "metadata": {},
   "source": [
    "### 2) Execução paralela - Multiprocessing\n",
    "\n",
    "O programa abaixo utiliza o módulo multiprocessing para criar dois processos que executam a função sleep. Com auxílio dessa biblioteca, é possível executar as duas de forma quase simultânea. Nota-se que é necessário utiizar o bloco if \\_\\_name\\_\\_ == \"\\_\\_main\\_\\_\" para que os processos só sejam executados uma vez. Isso se faz necessário pois o windows não cria um fork, dessa forma o novo processo precisa executar todo o código novamente. Caso não houvesse uma distinção entre o processo pai e o processo filho, processos seriam criados recursivamente. "
   ]
  },
  {
   "cell_type": "code",
   "execution_count": null,
   "metadata": {},
   "outputs": [],
   "source": [
    "import multiprocessing\n",
    "import time\n",
    "\n",
    "def sleep(secs):\n",
    "   \n",
    "    print(f'Sleeping {secs} second(s)...')\n",
    "    time.sleep(secs)\n",
    "    print('Done Sleeping...')\n",
    "\n",
    "if __name__ == '__main__':\n",
    "    \n",
    "    start = time.perf_counter()\n",
    "    \n",
    "    p1 = multiprocessing.Process(target=sleep, args=[1])\n",
    "    p2 = multiprocessing.Process(target=sleep, args=[1])\n",
    "\n",
    "    p1.start()\n",
    "    p2.start()\n",
    "\n",
    "    p1.join()\n",
    "    p2.join()\n",
    "\n",
    "    finish = time.perf_counter()\n",
    "\n",
    "    print(f'Finished in {round(finish-start,2)} second(s)')\n"
   ]
  },
  {
   "cell_type": "markdown",
   "metadata": {},
   "source": [
    "### 2.1) Execução paralela - Multiprocessing\n",
    "\n",
    "O programa abaixo é semelhante ao do item 2.1, porém conta com ainda mais processos. Para isso, utilizou-se um laço para criar multiplos processos e estss foram adicionados à uma lista. Nota-se que quanto mais processos forem adicionadas, maior será o tempo de execução do programa mesmo que o tempo de espera seja mantido o mesmo. Isso se dá em razão do CPU Bound, ou seja, o tempo de execução agora não esta só limitado ao tempo de espera de entradas e saídas."
   ]
  },
  {
   "cell_type": "code",
   "execution_count": null,
   "metadata": {},
   "outputs": [],
   "source": [
    "import multiprocessing\n",
    "import time\n",
    "\n",
    "def sleep(secs):\n",
    "    print(f'Sleeping {secs} second(s)...')\n",
    "    time.sleep(secs)\n",
    "    print('Done Sleeping...')\n",
    "\n",
    "if __name__ == '__main__':\n",
    "    \n",
    "    start = time.perf_counter()\n",
    "    processes = []\n",
    "    \n",
    "    for _ in range(10):\n",
    "       \n",
    "        p = multiprocessing.Process(target=sleep, args=[1])\n",
    "        p.start()\n",
    "        processes.append(p)\n",
    "\n",
    "    for process in processes:\n",
    "        process.join() \n",
    "\n",
    "    finish = time.perf_counter()\n",
    "\n",
    "    print(f'Finished in {round(finish-start,2)} second(s)')\n"
   ]
  },
  {
   "cell_type": "markdown",
   "metadata": {},
   "source": [
    "### 3.1) Execução paralela - Concurrent Futures\n",
    "\n",
    "O programa abaixo também utiliza o princípio de multiprocessamento, porém o módulo concurrent.futures é utilizado. Ele permite a criação de uma interface para execução de processos assíncronos. Nota-se que o uso de gerenciamento de contexto, permite a utilização do método sem a necessidade de parar o executor no fim do processo."
   ]
  },
  {
   "cell_type": "code",
   "execution_count": null,
   "metadata": {},
   "outputs": [],
   "source": [
    "import time\n",
    "import concurrent.futures\n",
    "\n",
    "\n",
    "def sleep(secs):\n",
    "    print(f'Sleeping {secs} second(s)...')\n",
    "    time.sleep(secs)\n",
    "    return 'Done Sleeping...'\n",
    "\n",
    "if __name__ == '__main__':\n",
    "    \n",
    "    start = time.perf_counter()\n",
    "    \n",
    "    with concurrent.futures.ProcessPoolExecutor() as executor:\n",
    "        f1 = executor.submit(sleep, 1)\n",
    "        f2 = executor.submit(sleep, 1)\n",
    "        print(f1.result())\n",
    "        print(f2.result())\n",
    "\n",
    "    finish = time.perf_counter()\n",
    "\n",
    "\n",
    "    print(f'Finished in {round(finish-start,2)} second(s)')"
   ]
  },
  {
   "cell_type": "markdown",
   "metadata": {},
   "source": [
    "### 3.2) Execução paralela - Concurrent Futures\n",
    "\n",
    "Análogo ao item 3.1, porém utiliza o método as_completed para retornar os processos apenas quando concluidos. Caso tentassemos printar diretamente os resultados, seria mostrado o endereço de memória do objeto future referente àquele processo. Isso também garante que os resultados sejam retornados na ordem em que forem concluídos."
   ]
  },
  {
   "cell_type": "code",
   "execution_count": null,
   "metadata": {},
   "outputs": [],
   "source": [
    "import time\n",
    "import concurrent.futures\n",
    "\n",
    "\n",
    "def sleep(secs):\n",
    "    print(f'Sleeping {secs} second(s)...')\n",
    "    time.sleep(secs)\n",
    "    return f'Done Sleeping...{secs}'\n",
    "\n",
    "if __name__ == '__main__':\n",
    "    \n",
    "    start = time.perf_counter()\n",
    "\n",
    "    with concurrent.futures.ProcessPoolExecutor() as executor:\n",
    "        secs = [5, 4, 3, 2, 1]\n",
    "        results = [executor.submit(sleep, sec) for sec in secs]\n",
    "    \n",
    "        for f in concurrent.futures.as_completed(results):\n",
    "            print(f.result())\n",
    "\n",
    "    finish = time.perf_counter()\n",
    "\n",
    "    print(f'Finished in {round(finish-start,2)} second(s)')"
   ]
  },
  {
   "cell_type": "markdown",
   "metadata": {},
   "source": [
    "### 3.3) Execução paralela - Concurrent Futures\n",
    "\n",
    "Análogo ao item 3.2, porém utiliza o método map para gerenciar a criação de processos. Esse método relaciona um conjunto de processos a uma lista de parâmetros. Vale ressaltar que esse método retorna apenas os resultados dos processos, de modo que, não é levado em conta o tempo de execução dos mesmos. Ou seja, a lista gerada recebe os resultados dos processos respeitando a sequência em que foram criados."
   ]
  },
  {
   "cell_type": "code",
   "execution_count": null,
   "metadata": {},
   "outputs": [],
   "source": [
    "import time\n",
    "import concurrent.futures\n",
    "\n",
    "\n",
    "def sleep(secs):\n",
    "    print(f'Sleeping {secs} second(s)...')\n",
    "    time.sleep(secs)\n",
    "    return f'Done Sleeping...{secs}'\n",
    "\n",
    "if __name__ == '__main__':\n",
    "    \n",
    "    start = time.perf_counter()\n",
    "\n",
    "    with concurrent.futures.ProcessPoolExecutor() as executor:\n",
    "        secs = [5, 4, 3, 2, 1]\n",
    "        results = executor.map(sleep,secs)\n",
    "    \n",
    "        for result in results:\n",
    "            print(result)\n",
    "\n",
    "    finish = time.perf_counter()\n",
    "\n",
    "    print(f'Finished in {round(finish-start,2)} second(s)')"
   ]
  }
 ],
 "metadata": {
  "interpreter": {
   "hash": "02e17b89f339ee76ff190cc42d9a5ce09190089d8d70b6d045aaf81c6763147f"
  },
  "kernelspec": {
   "display_name": "Python 3.10.0 64-bit (system)",
   "language": "python",
   "name": "python3"
  },
  "language_info": {
   "codemirror_mode": {
    "name": "ipython",
    "version": 3
   },
   "file_extension": ".py",
   "mimetype": "text/x-python",
   "name": "python",
   "nbconvert_exporter": "python",
   "pygments_lexer": "ipython3",
   "version": "3.10.0"
  },
  "orig_nbformat": 4
 },
 "nbformat": 4,
 "nbformat_minor": 2
}
